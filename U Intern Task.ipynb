{
 "cells": [
  {
   "cell_type": "markdown",
   "metadata": {},
   "source": [
    "# Part 1 ( Python ):\n"
   ]
  },
  {
   "cell_type": "markdown",
   "metadata": {},
   "source": [
    "### Q1: \n",
    "    Write a program that computes the value of a+aa+aaa+aaaa with a given digit as the value of a. Suppose the following input is supplied to the program: 9 Then, the output should be: 11106"
   ]
  },
  {
   "cell_type": "code",
   "execution_count": 1,
   "metadata": {},
   "outputs": [
    {
     "name": "stdout",
     "output_type": "stream",
     "text": [
      "Enter number: 9\n",
      "11106\n"
     ]
    }
   ],
   "source": [
    "num= input(\"Enter number: \")\n",
    "result=0\n",
    "for i in range(1,5):\n",
    "    result+=int(i*num)\n",
    "print(result)\n",
    "    \n",
    "    \n"
   ]
  },
  {
   "cell_type": "markdown",
   "metadata": {},
   "source": [
    "### Q2:\n",
    "    Please write a program to print the running time of execution of \"1+1\" for 100 times.\n"
   ]
  },
  {
   "cell_type": "code",
   "execution_count": 2,
   "metadata": {},
   "outputs": [
    {
     "name": "stdout",
     "output_type": "stream",
     "text": [
      "8.386974199995166\n"
     ]
    }
   ],
   "source": [
    "from timeit import Timer\n",
    "result = Timer(\"for i in range(100):1+1\")\n",
    "print (result.timeit())"
   ]
  },
  {
   "cell_type": "markdown",
   "metadata": {},
   "source": [
    "### Q3:\n",
    "    You are required to write a program to sort the (name, age, height) tuples by ascending order where name is string, age and height are numbers. The tuples are input by console. The sort criteria is: 1: Sort based on name; 2: Then sort based on age; 3: Then sort by score. The priority is that name > age > score. If the following tuples are given as input to the program: Tom,19,80 John,20,90 Jony,17,91 Jony,17,93 Json,21,85 Then, the output of the program should be: [('John', '20', '90'), ('Jony', '17', '91'), ('Jony', '17', '93'), ('Json', '21', '85'), ('Tom', '19', '80')]"
   ]
  },
  {
   "cell_type": "code",
   "execution_count": 24,
   "metadata": {},
   "outputs": [
    {
     "name": "stdout",
     "output_type": "stream",
     "text": [
      "if you would like to stop, insert 's' \n",
      "Enter Your Data: Tom,19,80\n",
      "if you would like to stop, insert 's' \n",
      "Enter Your Data: John,20,90\n",
      "if you would like to stop, insert 's' \n",
      "Enter Your Data: Jony,17,91\n",
      "if you would like to stop, insert 's' \n",
      "Enter Your Data: Jony,17,93\n",
      "if you would like to stop, insert 's' \n",
      "Enter Your Data: Json,21,85\n",
      "if you would like to stop, insert 's' \n",
      "Enter Your Data: s\n",
      "[('John', '20', '90'), ('Jony', '17', '91'), ('Jony', '17', '93'), ('Json', '21', '85'), ('Tom', '19', '80')]\n"
     ]
    }
   ],
   "source": [
    "from operator import itemgetter\n",
    "\n",
    "peopleData = []\n",
    "while True:\n",
    "    print(\"if you would like to stop, insert 's' \")\n",
    "    personData = input(\"Enter Your Data: \")\n",
    "\n",
    "    if personData == \"s\":\n",
    "        break\n",
    "    else:\n",
    "        peopleData.append(tuple((personData.split(\",\"))))\n",
    "\n",
    "peopleData.sort(key =  itemgetter(0, 1, 2))       \n",
    "print(peopleData)"
   ]
  },
  {
   "cell_type": "markdown",
   "metadata": {},
   "source": [
    "### Q4:\n",
    "    Write a Python program to count the number of characters (character frequency) in a string.\n",
    "\n",
    "Examble: ('google.com') => {'g': 2, 'o': 3, 'l': 1, 'e': 1, '.': 1, 'c': 1, 'm': 1}"
   ]
  },
  {
   "cell_type": "code",
   "execution_count": 42,
   "metadata": {},
   "outputs": [
    {
     "name": "stdout",
     "output_type": "stream",
     "text": [
      "{'g': 2, 'o': 3, 'l': 1, 'e': 1, '.': 1, 'c': 1, 'm': 1}\n"
     ]
    }
   ],
   "source": [
    "def char_freq(str):\n",
    "    NonFr = {}\n",
    "    for i in str:\n",
    "        keys = NonFr.keys()\n",
    "        if i in keys:\n",
    "            NonFr[i] += 1\n",
    "        else:\n",
    "            NonFr[i] = 1\n",
    "    return NonFr\n",
    "print(char_freq('google.com'))"
   ]
  },
  {
   "cell_type": "markdown",
   "metadata": {},
   "source": [
    "\n",
    "### Q5:\n",
    "    Write a Python program to add 'ing' at the end of a given string (length should be at least 3). If the given string already ends with 'ing' then add 'ly' instead. If the string length of the given string is less than 3, leave it unchanged.\n",
    "Examble \n",
    "\n",
    "        => ab => ab\n",
    "\n",
    "        => abc => abcing \n",
    "        \n",
    "        => string => stringly"
   ]
  },
  {
   "cell_type": "code",
   "execution_count": 5,
   "metadata": {},
   "outputs": [
    {
     "name": "stdout",
     "output_type": "stream",
     "text": [
      "ab\n",
      "abcing\n",
      "stringly\n"
     ]
    }
   ],
   "source": [
    "def add_string(str1):  \n",
    "  length = len(str1)  \n",
    "  \n",
    "  if length > 2:  \n",
    "    if str1[-3:] == 'ing':  \n",
    "      str1 += 'ly'  \n",
    "    else:  \n",
    "      str1 += 'ing'  \n",
    "  \n",
    "  return str1  \n",
    "print(add_string('ab'))  \n",
    "print(add_string('abc'))  \n",
    "print(add_string('string')) "
   ]
  },
  {
   "cell_type": "markdown",
   "metadata": {},
   "source": [
    "### Q6:\n",
    "    Write a Python program to add 5 seconds with the current time.\n",
    "\n",
    "Examble: Current time=> 13:09:38.491219 After 5 seconds => 13:09:43.491219"
   ]
  },
  {
   "cell_type": "code",
   "execution_count": 6,
   "metadata": {},
   "outputs": [
    {
     "name": "stdout",
     "output_type": "stream",
     "text": [
      "23:29:02.714138\n",
      "23:29:07.714138\n"
     ]
    }
   ],
   "source": [
    "import datetime\n",
    "x= datetime.datetime.now()\n",
    "y = x + datetime.timedelta(0,5)\n",
    "print(x.time())\n",
    "print(y.time())"
   ]
  },
  {
   "cell_type": "markdown",
   "metadata": {},
   "source": [
    "### Q7:\n",
    "\n",
    "Please solve this problem and write your code here?\n",
    "\n",
    "https://www.hackerrank.com/challenges/np-polynomials/problem"
   ]
  },
  {
   "cell_type": "code",
   "execution_count": null,
   "metadata": {},
   "outputs": [],
   "source": []
  },
  {
   "cell_type": "markdown",
   "metadata": {},
   "source": [
    "### Q8:\n",
    "\n",
    "Please solve this problem and write your code here?\n",
    "\n",
    "https://www.hackerrank.com/challenges/np-linear-algebra/problem"
   ]
  },
  {
   "cell_type": "code",
   "execution_count": null,
   "metadata": {},
   "outputs": [],
   "source": []
  },
  {
   "cell_type": "markdown",
   "metadata": {},
   "source": [
    "# Part2 (GUI):\n",
    "    Please create simple calculator like this image ( with the same colors and architecture ) "
   ]
  },
  {
   "cell_type": "markdown",
   "metadata": {},
   "source": [
    "![caption](files/image.jpg)"
   ]
  },
  {
   "cell_type": "code",
   "execution_count": null,
   "metadata": {},
   "outputs": [],
   "source": []
  }
 ],
 "metadata": {
  "kernelspec": {
   "display_name": "Python 3",
   "language": "python",
   "name": "python3"
  },
  "language_info": {
   "codemirror_mode": {
    "name": "ipython",
    "version": 3
   },
   "file_extension": ".py",
   "mimetype": "text/x-python",
   "name": "python",
   "nbconvert_exporter": "python",
   "pygments_lexer": "ipython3",
   "version": "3.7.6"
  }
 },
 "nbformat": 4,
 "nbformat_minor": 4
}
